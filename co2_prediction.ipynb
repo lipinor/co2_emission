{
 "cells": [
  {
   "cell_type": "markdown",
   "metadata": {},
   "source": [
    "Let's take the following vehicle to our prediction:"
   ]
  },
  {
   "cell_type": "code",
   "execution_count": 32,
   "metadata": {},
   "outputs": [
    {
     "name": "stdout",
     "output_type": "stream",
     "text": [
      "{'CO2 emission (g/km)': 269.9419860839844}\n"
     ]
    }
   ],
   "source": [
    "import requests\n",
    "\n",
    "vehicle = {\n",
    "    'model year': '2022', \n",
    "    'make': 'Ford', \n",
    "    'vehicle class': 'SUV: Standard', \n",
    "    'engine size (l)': 2.3, \n",
    "    'cylinders': '4',\n",
    "    'transmission': 'AS10', \n",
    "    'fuel type': 'X', \n",
    "    'fuel consumption comb (l/100 km)': 11.5,\n",
    "}\n",
    "\n",
    "url = 'http://localhost:9696/predict'\n",
    "response = requests.post(url, json=vehicle)\n",
    "result = response.json()\n",
    "print(result)"
   ]
  }
 ],
 "metadata": {
  "kernelspec": {
   "display_name": "co2_emission-Gh_prZVR",
   "language": "python",
   "name": "python3"
  },
  "language_info": {
   "codemirror_mode": {
    "name": "ipython",
    "version": 3
   },
   "file_extension": ".py",
   "mimetype": "text/x-python",
   "name": "python",
   "nbconvert_exporter": "python",
   "pygments_lexer": "ipython3",
   "version": "3.9.7"
  },
  "orig_nbformat": 4,
  "vscode": {
   "interpreter": {
    "hash": "13a55de73aaf8ee581320bc6e3128dbb63927406818271b14616030ef9e22ab8"
   }
  }
 },
 "nbformat": 4,
 "nbformat_minor": 2
}
